{
 "cells": [
  {
   "cell_type": "code",
   "execution_count": null,
   "id": "3161d976-88af-4cae-83f7-ce52a498e3d3",
   "metadata": {},
   "outputs": [],
   "source": [
    "import depal as dep\n",
    "import warnings\n",
    "warnings.filterwarnings('ignore')"
   ]
  },
  {
   "cell_type": "code",
   "execution_count": null,
   "id": "18c180d5-26ef-4560-b911-852e53a345ca",
   "metadata": {},
   "outputs": [],
   "source": [
    "dep.init()\n",
    "#dep.init(\"remote\")\n",
    "#dep.init(\"remote\", maxWorkers=8, resolution=10)"
   ]
  },
  {
   "cell_type": "code",
   "execution_count": null,
   "id": "a1fd5964-1ad2-4ccb-b4b2-c1d3c3ab242b",
   "metadata": {},
   "outputs": [],
   "source": [
    "#dep.list_countries()"
   ]
  },
  {
   "cell_type": "code",
   "execution_count": null,
   "id": "c2992d26-bca7-4d3d-8b8d-88ebd6d5e3e4",
   "metadata": {},
   "outputs": [],
   "source": [
    "#dep.list_boundary_types(\"Tonga\")"
   ]
  },
  {
   "cell_type": "code",
   "execution_count": null,
   "id": "b0495679-6fa1-4954-b799-b7f3716a6b6d",
   "metadata": {},
   "outputs": [],
   "source": [
    "#aoi = dep.get_country_boundary(\"Niue\")\n",
    "#aoi.explore()"
   ]
  },
  {
   "cell_type": "code",
   "execution_count": null,
   "id": "bed30212-bfd5-46a5-88de-c2fd7123971d",
   "metadata": {
    "tags": []
   },
   "outputs": [],
   "source": [
    "#dep.list_country_boundary(\"Tonga\", \"Island Group\")"
   ]
  },
  {
   "cell_type": "code",
   "execution_count": null,
   "id": "c861fe4e-1341-4005-857a-3c69201c6a4b",
   "metadata": {},
   "outputs": [],
   "source": [
    "aoi = dep.get_country_admin_boundary(\"Tonga\", \"Island Group\", \"Tongatapu\")\n",
    "#aoi.explore()\n",
    "#aoi = dep.get_country_admin_boundary(\"Fiji\", \"Province\", \"Ba\")"
   ]
  },
  {
   "cell_type": "code",
   "execution_count": null,
   "id": "240e9d97-7a2f-41cf-878d-aba5620a0c6a",
   "metadata": {},
   "outputs": [],
   "source": [
    "#dep.list_data_sources()"
   ]
  },
  {
   "cell_type": "code",
   "execution_count": null,
   "id": "fd312639-5f6c-4cf0-ad6f-76f6d1a95ba3",
   "metadata": {},
   "outputs": [],
   "source": [
    "#dep.list_global_land_cover()"
   ]
  },
  {
   "cell_type": "code",
   "execution_count": null,
   "id": "1cbee1e5-54ce-454f-b930-85cacb077a6c",
   "metadata": {},
   "outputs": [],
   "source": [
    "#dep.list_data_bands(\"landsat-c2-l2\")"
   ]
  },
  {
   "cell_type": "code",
   "execution_count": null,
   "id": "cda618c6-caf0-48fd-9e87-a381577466e9",
   "metadata": {},
   "outputs": [],
   "source": [
    "#dep.list_data_bands(\"sentinel-2-l2a\")"
   ]
  },
  {
   "cell_type": "code",
   "execution_count": null,
   "id": "05500a23-2085-41a7-9e96-462ccc4cea09",
   "metadata": {},
   "outputs": [],
   "source": [
    "#dep.list_data_assets(\"sentinel-1-rtc\")"
   ]
  },
  {
   "cell_type": "code",
   "execution_count": null,
   "id": "7eebc101-dbf3-480b-8ed9-355c85ca06e6",
   "metadata": {},
   "outputs": [],
   "source": [
    "#data = dep.get_cloudless_mosaic(aoi, timeframe=\"2022-01-01/2023-06-30\", period=\"yearly\")"
   ]
  },
  {
   "cell_type": "code",
   "execution_count": null,
   "id": "049cab27-d026-4111-85ee-59e5fe2af889",
   "metadata": {},
   "outputs": [],
   "source": [
    "#dep.visualise(data)"
   ]
  },
  {
   "cell_type": "code",
   "execution_count": null,
   "id": "37306589-abe5-4e4d-ba0c-49728e53b8b4",
   "metadata": {},
   "outputs": [],
   "source": [
    "#data = dep.get_ndvi(aoi, timeframe=\"2022-06-01/2023-07-30\", period=\"monthly\")"
   ]
  },
  {
   "cell_type": "code",
   "execution_count": null,
   "id": "6626bb9f-e6f1-4c58-a541-1358811017de",
   "metadata": {},
   "outputs": [],
   "source": [
    "#dep.visualise(data, cmap=\"RdYlGn\") #viridis"
   ]
  },
  {
   "cell_type": "code",
   "execution_count": null,
   "id": "9fecf996-f6e9-4da7-a4da-b73688ad053c",
   "metadata": {},
   "outputs": [],
   "source": [
    "#data = dep.get_ndwi(aoi, timeframe=\"2022-01-01/2023-06-30\", period=\"quarterly\")"
   ]
  },
  {
   "cell_type": "code",
   "execution_count": null,
   "id": "aba3c9d8-2076-42ec-8910-7baf06e66579",
   "metadata": {
    "tags": []
   },
   "outputs": [],
   "source": [
    "#dep.visualise(data, cmap=\"viridis\")"
   ]
  },
  {
   "cell_type": "code",
   "execution_count": null,
   "id": "990e9cd2-cf0f-4ea0-8a3f-f0de01a407eb",
   "metadata": {},
   "outputs": [],
   "source": [
    "#data = dep.get_latest_images(aoi, timeframe=\"2023-06-01/2023-06-30\", period=\"daily\")"
   ]
  },
  {
   "cell_type": "code",
   "execution_count": null,
   "id": "f414484f-c726-48ba-810c-4f755db1453d",
   "metadata": {
    "tags": []
   },
   "outputs": [],
   "source": [
    "#dep.visualise(data)"
   ]
  },
  {
   "cell_type": "code",
   "execution_count": null,
   "id": "85888fd5-cc97-47b0-a35e-bfb7a27aa4d4",
   "metadata": {
    "tags": []
   },
   "outputs": [],
   "source": [
    "#save data images\n",
    "#dep.save(data, \"test\")"
   ]
  },
  {
   "cell_type": "code",
   "execution_count": null,
   "id": "85c22f3d-2f5a-40ed-9439-86c4ad7ea770",
   "metadata": {
    "tags": []
   },
   "outputs": [],
   "source": [
    "#dep.colour_maps()"
   ]
  },
  {
   "cell_type": "code",
   "execution_count": null,
   "id": "ae99d324-7c86-4021-88be-f66b25b64844",
   "metadata": {
    "tags": []
   },
   "outputs": [],
   "source": [
    "data = dep.get_global_land_cover(aoi)"
   ]
  },
  {
   "cell_type": "code",
   "execution_count": null,
   "id": "bf377457-7153-4821-8f20-b9d29bb528e6",
   "metadata": {
    "tags": []
   },
   "outputs": [],
   "source": [
    "dep.chart_global_land_cover(data)"
   ]
  },
  {
   "cell_type": "code",
   "execution_count": null,
   "id": "0c6d8e3f-4d48-43fe-84e3-4718639adf6a",
   "metadata": {
    "tags": []
   },
   "outputs": [],
   "source": [
    "dep.cleanup()"
   ]
  }
 ],
 "metadata": {
  "kernelspec": {
   "display_name": "Python 3 (ipykernel)",
   "language": "python",
   "name": "python3"
  },
  "language_info": {
   "codemirror_mode": {
    "name": "ipython",
    "version": 3
   },
   "file_extension": ".py",
   "mimetype": "text/x-python",
   "name": "python",
   "nbconvert_exporter": "python",
   "pygments_lexer": "ipython3",
   "version": "3.11.4"
  }
 },
 "nbformat": 4,
 "nbformat_minor": 5
}
