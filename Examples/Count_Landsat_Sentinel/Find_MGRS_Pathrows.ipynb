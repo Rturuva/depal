{
 "cells": [
  {
   "cell_type": "code",
   "execution_count": null,
   "id": "fd0f3e89-cc12-461d-9835-36a0badc0e91",
   "metadata": {
    "tags": []
   },
   "outputs": [],
   "source": [
    "import dask.dataframe as dd\n",
    "import planetary_computer\n",
    "import pystac_client\n",
    "import pandas as pd\n",
    "\n",
    "pd.options.display.max_columns = 8"
   ]
  },
  {
   "cell_type": "code",
   "execution_count": null,
   "id": "63e692b2-a7f0-43ce-911e-0d09edc46c42",
   "metadata": {
    "tags": []
   },
   "outputs": [],
   "source": [
    "catalog = pystac_client.Client.open(\n",
    "    \"https://planetarycomputer.microsoft.com/api/stac/v1/\",\n",
    "    modifier=planetary_computer.sign_inplace,\n",
    ")\n",
    "\n",
    "asset = catalog.get_collection(\"sentinel-2-l2a\").assets[\"geoparquet-items\"]\n",
    "\n",
    "s2l2a = dd.read_parquet(\n",
    "    asset.href, storage_options=asset.extra_fields[\"table:storage_options\"]\n",
    ")"
   ]
  },
  {
   "cell_type": "code",
   "execution_count": null,
   "id": "e49bc394-7f42-43b9-80ec-052398c8f099",
   "metadata": {
    "tags": []
   },
   "outputs": [],
   "source": [
    "# Read the text file mgrs_list.csv as a list\n",
    "with open('mgrs_list.txt', 'r') as f:\n",
    "    mgrs_list = f.read().splitlines()\n",
    "    \n",
    "print(f\"Found {len(mgrs_list)} mgrs codes\")"
   ]
  },
  {
   "cell_type": "code",
   "execution_count": null,
   "id": "6447b88f-b624-4415-b067-c7e0dae465c8",
   "metadata": {},
   "outputs": [],
   "source": [
    "limited = s2l2a[s2l2a['s2:mgrs_tile'].isin(mgrs_list)]\n",
    "print(f\"Found {len(limited)} Sentinel-2 scenes over the Pacific\")"
   ]
  },
  {
   "cell_type": "code",
   "execution_count": null,
   "id": "5622ffba-32c9-4cf5-99a2-cacc02d2e911",
   "metadata": {
    "tags": []
   },
   "outputs": [],
   "source": [
    "ls_catalog = pystac_client.Client.open(\n",
    "    \"https://planetarycomputer.microsoft.com/api/stac/v1/\",\n",
    "    modifier=planetary_computer.sign_inplace,\n",
    ")\n",
    "\n",
    "ls_asset = ls_catalog.get_collection(\"landsat-c2-l2\").assets[\"geoparquet-items\"]\n",
    "\n",
    "c2l2 = dd.read_parquet(\n",
    "    ls_asset.href, storage_options=asset.extra_fields[\"table:storage_options\"]\n",
    ")"
   ]
  },
  {
   "cell_type": "code",
   "execution_count": null,
   "id": "14cc0072-f230-4687-bded-8ac7612df4ea",
   "metadata": {
    "tags": []
   },
   "outputs": [],
   "source": [
    "# Read the text file mgrs_list.csv as a list\n",
    "with open('pathrow_list.txt', 'r') as f:\n",
    "    pathrows = f.read().splitlines()\n",
    "\n",
    "paths = [s[0:3] for s in pathrows]\n",
    "rows = [s[3:6] for s in pathrows]\n",
    "    \n",
    "print(f\"Found {len(pathrows)} pathrows\")"
   ]
  },
  {
   "cell_type": "code",
   "execution_count": null,
   "id": "19a92110-67e0-4026-b643-61c93e08b131",
   "metadata": {
    "tags": []
   },
   "outputs": [],
   "source": [
    "ls_limited = c2l2[c2l2['landsat:wrs_path'].isin(paths) & c2l2['landsat:wrs_row'].isin(rows)]"
   ]
  },
  {
   "cell_type": "code",
   "execution_count": null,
   "id": "a1c20cf6-6576-48f5-ae04-04b551920277",
   "metadata": {
    "tags": []
   },
   "outputs": [],
   "source": [
    "print(f\"Found {len(ls_limited)} landsat scenes over the Pacific.\")"
   ]
  }
 ],
 "metadata": {
  "kernelspec": {
   "display_name": "Python 3 (ipykernel)",
   "language": "python",
   "name": "python3"
  },
  "language_info": {
   "codemirror_mode": {
    "name": "ipython",
    "version": 3
   },
   "file_extension": ".py",
   "mimetype": "text/x-python",
   "name": "python",
   "nbconvert_exporter": "python",
   "pygments_lexer": "ipython3",
   "version": "3.11.5"
  }
 },
 "nbformat": 4,
 "nbformat_minor": 5
}
