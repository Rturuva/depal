{
 "cells": [
  {
   "cell_type": "markdown",
   "id": "ba63fa1a-004f-490c-9926-3dd208da3961",
   "metadata": {},
   "source": [
    "![Digital Earth Pacific](dep.png)"
   ]
  },
  {
   "cell_type": "code",
   "execution_count": null,
   "id": "1b817932-533a-42e9-80ae-39997d139010",
   "metadata": {
    "tags": []
   },
   "outputs": [],
   "source": [
    "import geopandas as gpd\n",
    "import joblib\n",
    "import numpy as np\n",
    "import odc.geo.xr  # noqa\n",
    "from dask import config\n",
    "from dask.distributed import Client as dask_client\n",
    "from odc.stac import load\n",
    "from pystac_client import Client\n",
    "from shapely import geometry\n",
    "import depal_fj as dep\n",
    "from depal_fj import predict_xr\n",
    "from model import get_overlay\n",
    "from ipyleaflet import Map, LayersControl, basemaps"
   ]
  },
  {
   "cell_type": "code",
   "execution_count": null,
   "id": "25395eb9-2a32-43c8-89ad-24ddce52781d",
   "metadata": {
    "tags": []
   },
   "outputs": [],
   "source": [
    "%reload_ext autoreload\n",
    "%autoreload 2\n",
    "\n",
    "config.set({'distributed.worker.daemon': False})"
   ]
  },
  {
   "cell_type": "markdown",
   "id": "dacfa444-524f-4d99-a305-1069c4dd56f9",
   "metadata": {},
   "source": [
    "## Find and load data\n",
    "\n",
    "Load data and set up your array to use for prediction"
   ]
  },
  {
   "cell_type": "code",
   "execution_count": null,
   "id": "c1661b94",
   "metadata": {
    "tags": []
   },
   "outputs": [],
   "source": [
    "# Configure some things up front\n",
    "chunks = dict(x=2048, y=2048)\n",
    "year = \"2023\"\n",
    "model_file_name = \"fj_lulc.model\"\n",
    "\n",
    "aoi = dep.get_island(\"Viti Levu\")\n",
    "bbox = dep.get_bbox(aoi)\n",
    "bbox_geometry = geometry.box(*bbox)\n",
    "\n",
    "gdf = gpd.GeoDataFrame({'geometry': [bbox_geometry]}, crs='EPSG:4326')\n",
    "gdf.explore()"
   ]
  },
  {
   "cell_type": "code",
   "execution_count": null,
   "id": "29936636",
   "metadata": {
    "tags": []
   },
   "outputs": [],
   "source": [
    "catalog = \"https://stac.staging.digitalearthpacific.org\"\n",
    "client = Client.open(catalog)\n",
    "\n",
    "# Search for Sentinel-2 GeoMAD data\n",
    "items = client.search(\n",
    "    collections=[\"dep_s2_geomad\"],\n",
    "    bbox=bbox,\n",
    "    datetime=year\n",
    ").items()\n",
    "\n",
    "# Load the data\n",
    "data = load(items, chunks=chunks, bbox=bbox, resolution=10).squeeze(\"time\")\n",
    "\n",
    "#coastal clip\n",
    "data = dep.do_coastal_clip(aoi, data, buffer=0)\n",
    "data"
   ]
  },
  {
   "cell_type": "code",
   "execution_count": null,
   "id": "af9762ab",
   "metadata": {
    "tags": []
   },
   "outputs": [],
   "source": [
    "loaded_model = joblib.load(model_file_name)"
   ]
  },
  {
   "cell_type": "markdown",
   "id": "92b942be-dbbe-44c2-8291-d55a5e6d8249",
   "metadata": {},
   "source": [
    "## Run the prediction"
   ]
  },
  {
   "cell_type": "code",
   "execution_count": null,
   "id": "07c9cfa5-ff5a-4fc9-b56d-2cd8c8a6e553",
   "metadata": {
    "tags": []
   },
   "outputs": [],
   "source": [
    "filled = data.fillna(-9999.0)\n",
    "\n",
    "# This runs the actual prediction\n",
    "with dask_client():\n",
    "    predicted = predict_xr(loaded_model, filled, proba=True)\n",
    "\n",
    "    # Convert to int\n",
    "    cleaned_predictions = predicted.copy(deep=True)\n",
    "    cleaned_predictions.predictions.data = predicted.predictions.data.astype(np.int8)\n",
    "    cleaned_predictions.probabilities.data = predicted.probabilities.data.astype(np.float32)\n",
    "\n",
    "    cleaned_predictions = cleaned_predictions.rename(\n",
    "        {\"predictions\": \"lulc\", \"probabilities\": \"prob\"}\n",
    "    ).compute()\n",
    "\n",
    "cleaned_predictions"
   ]
  },
  {
   "cell_type": "code",
   "execution_count": null,
   "id": "949ce84c-6a9a-4918-aaf2-8438b6e87feb",
   "metadata": {
    "tags": []
   },
   "outputs": [],
   "source": [
    "from matplotlib import colors\n",
    "\n",
    "classes = [\n",
    "    [1, \"Cropland\", \"#ffce33\"],\n",
    "    [2, \"Forest\", \"#064a00\"],\n",
    "    [3, \"Grassland\", \"#d7ffa0\"],\n",
    "    [4, \"Settlement\", \"#d10a1e\"],\n",
    "    [5, \"Mangroves\", \"#07b28d\"],\n",
    "    [6, \"Water\", \"#71a8ff90\"],\n",
    "    [7, \"Bare_Other\", \"#968640\"]\n",
    "]\n",
    "\n",
    "values_list = [c[0] for c in classes]\n",
    "color_list = [c[2] for c in classes]\n",
    "\n",
    "# Build a listed colormap.\n",
    "c_map = colors.ListedColormap(color_list)\n",
    "bounds = values_list + [8]\n",
    "norm = colors.BoundaryNorm(bounds, c_map.N)\n",
    "\n",
    "cleaned_predictions.lulc.plot.imshow(cmap=c_map, norm=norm, size=10)"
   ]
  },
  {
   "cell_type": "markdown",
   "id": "47972d2b-a44e-485a-8dc8-5e9317df3991",
   "metadata": {},
   "source": [
    "### Interactive Display"
   ]
  },
  {
   "cell_type": "code",
   "execution_count": null,
   "id": "c3d25ca4-dc50-4b2f-8ddc-bfc1274393b0",
   "metadata": {
    "tags": []
   },
   "outputs": [],
   "source": [
    "# Write GeoTIFF\n",
    "cleaned_predictions.lulc.odc.write_cog(\"fj_lulc_\" + str(year) + \".tif\", overwrite=True)"
   ]
  }
 ],
 "metadata": {
  "kernelspec": {
   "display_name": "Python 3 (ipykernel)",
   "language": "python",
   "name": "python3"
  },
  "language_info": {
   "codemirror_mode": {
    "name": "ipython",
    "version": 3
   },
   "file_extension": ".py",
   "mimetype": "text/x-python",
   "name": "python",
   "nbconvert_exporter": "python",
   "pygments_lexer": "ipython3",
   "version": "3.11.4"
  }
 },
 "nbformat": 4,
 "nbformat_minor": 5
}
