{
 "cells": [
  {
   "cell_type": "markdown",
   "id": "b572f10d-db4c-4259-bfa2-8209dd264b83",
   "metadata": {},
   "source": [
    "![Digital Earth Pacific](dep.png)"
   ]
  },
  {
   "cell_type": "code",
   "execution_count": 1,
   "id": "9f7c1f02-0be7-4fea-8013-f1cdde15ad48",
   "metadata": {
    "tags": []
   },
   "outputs": [],
   "source": [
    "import os\n",
    "import leafmap.leafmap as leafmap\n",
    "import leafmap.colormaps as cm\n",
    "from matplotlib import colors"
   ]
  },
  {
   "cell_type": "code",
   "execution_count": 2,
   "id": "a932d1b0-ebf7-4f51-ac5b-46f503788a42",
   "metadata": {},
   "outputs": [],
   "source": [
    "!pip install -q localtileserver\n",
    "!pip install -q -U leafmap"
   ]
  },
  {
   "cell_type": "code",
   "execution_count": 3,
   "id": "2ef84d81-25ed-456d-ad11-c86852dcf280",
   "metadata": {},
   "outputs": [],
   "source": [
    "tif = 'fj_lulc_2023.tif'"
   ]
  },
  {
   "cell_type": "code",
   "execution_count": 5,
   "id": "d8ca3d1b-618f-4ebd-a26a-e8412f19c73d",
   "metadata": {},
   "outputs": [],
   "source": [
    "classes = [\n",
    "    [1, \"Cropland\", \"#ffce33\"],\n",
    "    [2, \"Forest\", \"#064a00\"],\n",
    "    [3, \"Grassland\", \"#d7ffa0\"],\n",
    "    [4, \"Settlement\", \"#d10a1e\"],\n",
    "    [5, \"Mangroves\", \"#07b28d\"],\n",
    "    [6, \"Water\", \"#71a8ff90\"],\n",
    "    [7, \"Bare_Other\", \"#968640\"]\n",
    "]\n",
    "\n",
    "values_list = [c[0] for c in classes]\n",
    "color_list = [c[2] for c in classes]\n",
    "\n",
    "# Build a listed colormap.\n",
    "c_map = colors.ListedColormap(color_list)"
   ]
  },
  {
   "cell_type": "code",
   "execution_count": 7,
   "id": "806c007f-7aad-4496-ba0d-4535d3c316c6",
   "metadata": {
    "tags": []
   },
   "outputs": [
    {
     "data": {
      "text/plain": [
       "['#ffce33', '#064a00', '#d7ffa0', '#d10a1e', '#07b28d', '#71a8ff90', '#968640']"
      ]
     },
     "execution_count": 7,
     "metadata": {},
     "output_type": "execute_result"
    }
   ],
   "source": [
    "color_list"
   ]
  },
  {
   "cell_type": "code",
   "execution_count": 20,
   "id": "f998e22d-2325-4100-a11d-f32fa413660e",
   "metadata": {
    "tags": []
   },
   "outputs": [
    {
     "data": {
      "application/vnd.jupyter.widget-view+json": {
       "model_id": "edb4bb8a0ff84a6a8fe9ee755643d5ba",
       "version_major": 2,
       "version_minor": 0
      },
      "text/plain": [
       "Map(center=[20, 0], controls=(ZoomControl(options=['position', 'zoom_in_text', 'zoom_in_title', 'zoom_out_text…"
      ]
     },
     "metadata": {},
     "output_type": "display_data"
    }
   ],
   "source": [
    "m = leafmap.Map()\n",
    "#jet, prism, rainbow, npi_spectral, gist_ncar\n",
    "m.add_raster(tif, colormap='jet', bands=[1], layer_name='LULC')\n",
    "#m.add_raster(tif, colormap=c_map,  layer_name='LULC')\n",
    "m"
   ]
  },
  {
   "cell_type": "code",
   "execution_count": null,
   "id": "a4b08e2d-4985-4b2b-9292-25e1a633f559",
   "metadata": {},
   "outputs": [],
   "source": []
  }
 ],
 "metadata": {
  "kernelspec": {
   "display_name": "Python 3 (ipykernel)",
   "language": "python",
   "name": "python3"
  },
  "language_info": {
   "codemirror_mode": {
    "name": "ipython",
    "version": 3
   },
   "file_extension": ".py",
   "mimetype": "text/x-python",
   "name": "python",
   "nbconvert_exporter": "python",
   "pygments_lexer": "ipython3",
   "version": "3.11.4"
  }
 },
 "nbformat": 4,
 "nbformat_minor": 5
}
