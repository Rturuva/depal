{
 "cells": [
  {
   "cell_type": "markdown",
   "id": "b572f10d-db4c-4259-bfa2-8209dd264b83",
   "metadata": {},
   "source": [
    "![Digital Earth Pacific](dep.png)"
   ]
  },
  {
   "cell_type": "code",
   "execution_count": null,
   "id": "9f7c1f02-0be7-4fea-8013-f1cdde15ad48",
   "metadata": {
    "tags": []
   },
   "outputs": [],
   "source": [
    "import os\n",
    "import leafmap.leafmap as leafmap\n",
    "import leafmap.colormaps as cm\n",
    "from matplotlib import colors"
   ]
  },
  {
   "cell_type": "code",
   "execution_count": null,
   "id": "a932d1b0-ebf7-4f51-ac5b-46f503788a42",
   "metadata": {},
   "outputs": [],
   "source": [
    "!pip install -q -U localtileserver\n",
    "!pip install -q -U leafmap"
   ]
  },
  {
   "cell_type": "code",
   "execution_count": null,
   "id": "2ef84d81-25ed-456d-ad11-c86852dcf280",
   "metadata": {},
   "outputs": [],
   "source": [
    "tif = 'fj_lulc_2023.tif'"
   ]
  },
  {
   "cell_type": "code",
   "execution_count": null,
   "id": "d8ca3d1b-618f-4ebd-a26a-e8412f19c73d",
   "metadata": {},
   "outputs": [],
   "source": [
    "classes = [\n",
    "    [1, \"Cropland\", \"#ffce33\"],\n",
    "    [2, \"Forest\", \"#064a00\"],\n",
    "    [3, \"Grassland\", \"#d7ffa0\"],\n",
    "    [4, \"Settlement\", \"#d10a1e\"],\n",
    "    [5, \"Mangroves\", \"#07b28d\"],\n",
    "    [6, \"Water\", \"#71a8ff90\"],\n",
    "    [7, \"Bare_Other\", \"#968640\"]\n",
    "]\n",
    "\n",
    "values_list = [c[0] for c in classes]\n",
    "color_list = [c[2] for c in classes]\n",
    "\n",
    "# Build a listed colormap.\n",
    "c_map = colors.ListedColormap(color_list)"
   ]
  },
  {
   "cell_type": "code",
   "execution_count": null,
   "id": "f998e22d-2325-4100-a11d-f32fa413660e",
   "metadata": {
    "tags": []
   },
   "outputs": [],
   "source": [
    "m = leafmap.Map()\n",
    "m.add_basemap(\"Esri.WorldImagery\")\n",
    "#jet, prism, rainbow, npi_spectral, gist_ncar\n",
    "m.add_raster(tif, colormap='jet', bands=[1], layer_name='LULC')\n",
    "#m.add_raster(tif, colormap=c_map,  layer_name='LULC')\n",
    "m"
   ]
  }
 ],
 "metadata": {
  "kernelspec": {
   "display_name": "Python 3 (ipykernel)",
   "language": "python",
   "name": "python3"
  },
  "language_info": {
   "codemirror_mode": {
    "name": "ipython",
    "version": 3
   },
   "file_extension": ".py",
   "mimetype": "text/x-python",
   "name": "python",
   "nbconvert_exporter": "python",
   "pygments_lexer": "ipython3",
   "version": "3.11.4"
  }
 },
 "nbformat": 4,
 "nbformat_minor": 5
}
