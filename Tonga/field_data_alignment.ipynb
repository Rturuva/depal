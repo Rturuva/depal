{
 "cells": [
  {
   "cell_type": "markdown",
   "id": "f5c0e422-2168-4849-8bb0-93f4762ae14f",
   "metadata": {},
   "source": [
    "![Digital Earth Pacific](../dep.png)"
   ]
  },
  {
   "cell_type": "markdown",
   "id": "8d41c56e-4b5d-4ad1-a2e8-87396c92b16e",
   "metadata": {
    "tags": []
   },
   "source": [
    "### Tonga LULC Field Data Alignment and Cleanup across Multiple Surveys"
   ]
  },
  {
   "cell_type": "code",
   "execution_count": 1,
   "id": "a3525672-bb12-4fcb-acc8-bb5dd68b4581",
   "metadata": {},
   "outputs": [],
   "source": [
    "import os\n",
    "import sys\n",
    "sys.path.insert(0, '..')\n",
    "import depal as dep\n",
    "import geopandas as gpd\n",
    "import numpy as np\n",
    "import pandas as pd\n",
    "import warnings\n",
    "warnings.filterwarnings('ignore')"
   ]
  },
  {
   "cell_type": "code",
   "execution_count": 2,
   "id": "b51facfd-6371-41fe-a69b-b218555a4401",
   "metadata": {},
   "outputs": [
    {
     "name": "stdout",
     "output_type": "stream",
     "text": [
      "Initiating DEPAL...\n",
      "<Client: 'tcp://127.0.0.1:37685' processes=4 threads=8, memory=32.00 GiB>\n",
      "/user/sachindras@spc.int/proxy/8787/status\n"
     ]
    }
   ],
   "source": [
    "dep.init()"
   ]
  },
  {
   "cell_type": "markdown",
   "id": "11caff95-f611-49a4-93e4-4137962721ba",
   "metadata": {},
   "source": [
    "#### Load Both Surveys"
   ]
  },
  {
   "cell_type": "markdown",
   "id": "57cbbb83-e6c4-4995-95c7-11282a26c939",
   "metadata": {},
   "source": [
    "Your code goes in the cells below. Add more cells here by clicking on the + button above."
   ]
  },
  {
   "cell_type": "code",
   "execution_count": 3,
   "id": "6060bd4b-642c-4a25-bccc-838101a51838",
   "metadata": {},
   "outputs": [],
   "source": [
    "gdf1 = gpd.read_file(\"datapoints_010423.geojson\")\n",
    "gdf2 = gpd.read_file(\"datapoints_260723.gpkg\")"
   ]
  },
  {
   "cell_type": "markdown",
   "id": "c7e99bca-003f-4fd6-b396-02d8942d4214",
   "metadata": {},
   "source": [
    "#### Cleanup and Merge"
   ]
  },
  {
   "cell_type": "code",
   "execution_count": 4,
   "id": "e8eea2df-9a40-4a4e-81e5-13f5d98ecb83",
   "metadata": {},
   "outputs": [],
   "source": [
    "gdf1.rename(columns={\"LULC_class\": \"LULC\"}, inplace=True)\n",
    "gdf2.loc[gdf2['LULC'].isnull(), 'LULC'] = gdf2['Agriculture']\n",
    "gdf2.loc[gdf2['LULC'].isnull(), 'LULC'] = gdf2['Coastal']\n",
    "gdf2.loc[gdf2['LULC'].isnull(), 'LULC'] = gdf2['Forest']\n",
    "gdf2.loc[gdf2['LULC'].isnull(), 'LULC'] = gdf2['Hazards']\n",
    "gdf2.loc[gdf2['LULC'].isnull(), 'LULC'] = gdf2['Mining']\n",
    "gdf2.loc[gdf2['LULC'].isnull(), 'LULC'] = gdf2['Other_LULC']\n",
    "gdf2 = gdf2[gdf2[\"LULC\"].notna()]"
   ]
  },
  {
   "cell_type": "code",
   "execution_count": 5,
   "id": "4689e7be-3477-4a7d-ad14-de2af2c777c4",
   "metadata": {},
   "outputs": [],
   "source": [
    "gdf3 = pd.concat([gdf1, gdf2])"
   ]
  },
  {
   "cell_type": "code",
   "execution_count": 6,
   "id": "bb7af2b0-f2de-4321-80f8-80c0b5fbee90",
   "metadata": {
    "tags": []
   },
   "outputs": [],
   "source": [
    "gdf = gdf3[['LULC', 'geometry']]\n",
    "gdf = gdf[gdf.LULC != \"\"]"
   ]
  },
  {
   "cell_type": "code",
   "execution_count": 7,
   "id": "6672c704-ee04-4bd6-8cb8-2640ecbd7b3e",
   "metadata": {},
   "outputs": [
    {
     "data": {
      "text/plain": [
       "2566"
      ]
     },
     "execution_count": 7,
     "metadata": {},
     "output_type": "execute_result"
    }
   ],
   "source": [
    "len(gdf)"
   ]
  },
  {
   "cell_type": "code",
   "execution_count": 8,
   "id": "a55cc7ec-0fe8-48ae-8dbf-36458f850440",
   "metadata": {},
   "outputs": [
    {
     "data": {
      "text/html": [
       "<div>\n",
       "<style scoped>\n",
       "    .dataframe tbody tr th:only-of-type {\n",
       "        vertical-align: middle;\n",
       "    }\n",
       "\n",
       "    .dataframe tbody tr th {\n",
       "        vertical-align: top;\n",
       "    }\n",
       "\n",
       "    .dataframe thead th {\n",
       "        text-align: right;\n",
       "    }\n",
       "</style>\n",
       "<table border=\"1\" class=\"dataframe\">\n",
       "  <thead>\n",
       "    <tr style=\"text-align: right;\">\n",
       "      <th></th>\n",
       "      <th>0</th>\n",
       "      <th>1</th>\n",
       "    </tr>\n",
       "  </thead>\n",
       "  <tbody>\n",
       "    <tr>\n",
       "      <th>0</th>\n",
       "      <td>Settlements</td>\n",
       "      <td>516</td>\n",
       "    </tr>\n",
       "    <tr>\n",
       "      <th>1</th>\n",
       "      <td>Forest_land</td>\n",
       "      <td>163</td>\n",
       "    </tr>\n",
       "    <tr>\n",
       "      <th>2</th>\n",
       "      <td>Grassland</td>\n",
       "      <td>154</td>\n",
       "    </tr>\n",
       "    <tr>\n",
       "      <th>3</th>\n",
       "      <td>Cropland</td>\n",
       "      <td>139</td>\n",
       "    </tr>\n",
       "    <tr>\n",
       "      <th>4</th>\n",
       "      <td>Sand</td>\n",
       "      <td>130</td>\n",
       "    </tr>\n",
       "    <tr>\n",
       "      <th>5</th>\n",
       "      <td>Cropland_Agriculture</td>\n",
       "      <td>111</td>\n",
       "    </tr>\n",
       "    <tr>\n",
       "      <th>6</th>\n",
       "      <td>Low_density_forest_palm</td>\n",
       "      <td>91</td>\n",
       "    </tr>\n",
       "    <tr>\n",
       "      <th>7</th>\n",
       "      <td>Lawn_grass</td>\n",
       "      <td>89</td>\n",
       "    </tr>\n",
       "    <tr>\n",
       "      <th>8</th>\n",
       "      <td>Mangroves</td>\n",
       "      <td>72</td>\n",
       "    </tr>\n",
       "    <tr>\n",
       "      <th>9</th>\n",
       "      <td>Roads_paved</td>\n",
       "      <td>71</td>\n",
       "    </tr>\n",
       "    <tr>\n",
       "      <th>10</th>\n",
       "      <td>Natural_scattered_forest</td>\n",
       "      <td>64</td>\n",
       "    </tr>\n",
       "    <tr>\n",
       "      <th>11</th>\n",
       "      <td>Grazing_land</td>\n",
       "      <td>61</td>\n",
       "    </tr>\n",
       "    <tr>\n",
       "      <th>12</th>\n",
       "      <td>Agroforestry_coconuts</td>\n",
       "      <td>60</td>\n",
       "    </tr>\n",
       "    <tr>\n",
       "      <th>13</th>\n",
       "      <td>Bare_land</td>\n",
       "      <td>57</td>\n",
       "    </tr>\n",
       "    <tr>\n",
       "      <th>14</th>\n",
       "      <td>Shrubs</td>\n",
       "      <td>55</td>\n",
       "    </tr>\n",
       "    <tr>\n",
       "      <th>15</th>\n",
       "      <td>Mixed_cropping</td>\n",
       "      <td>52</td>\n",
       "    </tr>\n",
       "    <tr>\n",
       "      <th>16</th>\n",
       "      <td>Hardwood_tree_species</td>\n",
       "      <td>49</td>\n",
       "    </tr>\n",
       "    <tr>\n",
       "      <th>17</th>\n",
       "      <td>Mudflats</td>\n",
       "      <td>48</td>\n",
       "    </tr>\n",
       "    <tr>\n",
       "      <th>18</th>\n",
       "      <td>Vegetation</td>\n",
       "      <td>43</td>\n",
       "    </tr>\n",
       "    <tr>\n",
       "      <th>19</th>\n",
       "      <td>Wetland</td>\n",
       "      <td>40</td>\n",
       "    </tr>\n",
       "    <tr>\n",
       "      <th>20</th>\n",
       "      <td>Wetland_Mangroves</td>\n",
       "      <td>40</td>\n",
       "    </tr>\n",
       "    <tr>\n",
       "      <th>21</th>\n",
       "      <td>Monocropping</td>\n",
       "      <td>40</td>\n",
       "    </tr>\n",
       "    <tr>\n",
       "      <th>22</th>\n",
       "      <td>Seaweed</td>\n",
       "      <td>37</td>\n",
       "    </tr>\n",
       "    <tr>\n",
       "      <th>23</th>\n",
       "      <td>Pasture_land</td>\n",
       "      <td>37</td>\n",
       "    </tr>\n",
       "    <tr>\n",
       "      <th>24</th>\n",
       "      <td>Mining</td>\n",
       "      <td>35</td>\n",
       "    </tr>\n",
       "    <tr>\n",
       "      <th>25</th>\n",
       "      <td>Natural_Dense_forest</td>\n",
       "      <td>30</td>\n",
       "    </tr>\n",
       "    <tr>\n",
       "      <th>26</th>\n",
       "      <td>Shallow_ocean</td>\n",
       "      <td>27</td>\n",
       "    </tr>\n",
       "    <tr>\n",
       "      <th>27</th>\n",
       "      <td>Natural_Shrubs</td>\n",
       "      <td>26</td>\n",
       "    </tr>\n",
       "    <tr>\n",
       "      <th>28</th>\n",
       "      <td>Rock</td>\n",
       "      <td>26</td>\n",
       "    </tr>\n",
       "    <tr>\n",
       "      <th>29</th>\n",
       "      <td>Coral_reef</td>\n",
       "      <td>23</td>\n",
       "    </tr>\n",
       "    <tr>\n",
       "      <th>30</th>\n",
       "      <td>Infrastructure</td>\n",
       "      <td>23</td>\n",
       "    </tr>\n",
       "    <tr>\n",
       "      <th>31</th>\n",
       "      <td>Integrated_Livestock_Agriculture</td>\n",
       "      <td>17</td>\n",
       "    </tr>\n",
       "    <tr>\n",
       "      <th>32</th>\n",
       "      <td>Roads</td>\n",
       "      <td>16</td>\n",
       "    </tr>\n",
       "    <tr>\n",
       "      <th>33</th>\n",
       "      <td>Shrubland</td>\n",
       "      <td>15</td>\n",
       "    </tr>\n",
       "    <tr>\n",
       "      <th>34</th>\n",
       "      <td>Active_mining</td>\n",
       "      <td>13</td>\n",
       "    </tr>\n",
       "    <tr>\n",
       "      <th>35</th>\n",
       "      <td>Agroforestry</td>\n",
       "      <td>12</td>\n",
       "    </tr>\n",
       "    <tr>\n",
       "      <th>36</th>\n",
       "      <td>Softwood_tree_species</td>\n",
       "      <td>12</td>\n",
       "    </tr>\n",
       "    <tr>\n",
       "      <th>37</th>\n",
       "      <td>Roads_unpaved</td>\n",
       "      <td>12</td>\n",
       "    </tr>\n",
       "    <tr>\n",
       "      <th>38</th>\n",
       "      <td>Surface_water</td>\n",
       "      <td>10</td>\n",
       "    </tr>\n",
       "    <tr>\n",
       "      <th>39</th>\n",
       "      <td>Mining areas</td>\n",
       "      <td>9</td>\n",
       "    </tr>\n",
       "    <tr>\n",
       "      <th>40</th>\n",
       "      <td>Solar_panels</td>\n",
       "      <td>9</td>\n",
       "    </tr>\n",
       "    <tr>\n",
       "      <th>41</th>\n",
       "      <td>Weeds</td>\n",
       "      <td>8</td>\n",
       "    </tr>\n",
       "    <tr>\n",
       "      <th>42</th>\n",
       "      <td>Deep_ocean</td>\n",
       "      <td>7</td>\n",
       "    </tr>\n",
       "    <tr>\n",
       "      <th>43</th>\n",
       "      <td>Burned_land</td>\n",
       "      <td>5</td>\n",
       "    </tr>\n",
       "    <tr>\n",
       "      <th>44</th>\n",
       "      <td>Seagrass</td>\n",
       "      <td>4</td>\n",
       "    </tr>\n",
       "    <tr>\n",
       "      <th>45</th>\n",
       "      <td>Invasive_species</td>\n",
       "      <td>3</td>\n",
       "    </tr>\n",
       "    <tr>\n",
       "      <th>46</th>\n",
       "      <td>Climbing_vines</td>\n",
       "      <td>2</td>\n",
       "    </tr>\n",
       "    <tr>\n",
       "      <th>47</th>\n",
       "      <td>Aquaculture</td>\n",
       "      <td>1</td>\n",
       "    </tr>\n",
       "    <tr>\n",
       "      <th>48</th>\n",
       "      <td>Closed_abandoned_mining</td>\n",
       "      <td>1</td>\n",
       "    </tr>\n",
       "    <tr>\n",
       "      <th>49</th>\n",
       "      <td>Seagrasses</td>\n",
       "      <td>1</td>\n",
       "    </tr>\n",
       "  </tbody>\n",
       "</table>\n",
       "</div>"
      ],
      "text/plain": [
       "                                   0    1\n",
       "0                        Settlements  516\n",
       "1                        Forest_land  163\n",
       "2                          Grassland  154\n",
       "3                           Cropland  139\n",
       "4                               Sand  130\n",
       "5               Cropland_Agriculture  111\n",
       "6            Low_density_forest_palm   91\n",
       "7                         Lawn_grass   89\n",
       "8                          Mangroves   72\n",
       "9                        Roads_paved   71\n",
       "10          Natural_scattered_forest   64\n",
       "11                      Grazing_land   61\n",
       "12             Agroforestry_coconuts   60\n",
       "13                         Bare_land   57\n",
       "14                            Shrubs   55\n",
       "15                    Mixed_cropping   52\n",
       "16             Hardwood_tree_species   49\n",
       "17                          Mudflats   48\n",
       "18                        Vegetation   43\n",
       "19                           Wetland   40\n",
       "20                 Wetland_Mangroves   40\n",
       "21                      Monocropping   40\n",
       "22                           Seaweed   37\n",
       "23                      Pasture_land   37\n",
       "24                            Mining   35\n",
       "25              Natural_Dense_forest   30\n",
       "26                     Shallow_ocean   27\n",
       "27                    Natural_Shrubs   26\n",
       "28                              Rock   26\n",
       "29                        Coral_reef   23\n",
       "30                    Infrastructure   23\n",
       "31  Integrated_Livestock_Agriculture   17\n",
       "32                             Roads   16\n",
       "33                         Shrubland   15\n",
       "34                     Active_mining   13\n",
       "35                      Agroforestry   12\n",
       "36             Softwood_tree_species   12\n",
       "37                     Roads_unpaved   12\n",
       "38                     Surface_water   10\n",
       "39                      Mining areas    9\n",
       "40                      Solar_panels    9\n",
       "41                             Weeds    8\n",
       "42                        Deep_ocean    7\n",
       "43                       Burned_land    5\n",
       "44                          Seagrass    4\n",
       "45                  Invasive_species    3\n",
       "46                    Climbing_vines    2\n",
       "47                       Aquaculture    1\n",
       "48           Closed_abandoned_mining    1\n",
       "49                        Seagrasses    1"
      ]
     },
     "execution_count": 8,
     "metadata": {},
     "output_type": "execute_result"
    }
   ],
   "source": [
    "summary = gdf.LULC.value_counts()\n",
    "pd.DataFrame(summary.items())"
   ]
  },
  {
   "cell_type": "markdown",
   "id": "d39e283b-5e80-409a-88e6-fb9d1bfcbe40",
   "metadata": {},
   "source": [
    "#### Alignment"
   ]
  },
  {
   "cell_type": "markdown",
   "id": "981240d6-264e-4ca7-a3ca-da3b623bb16d",
   "metadata": {},
   "source": [
    "Baseline Identified Classes:\n",
    "\n",
    "- Settlements\n",
    "- Forest_Land (Natural, Plantation)\n",
    "- Grass_Shrub_Land\n",
    "- Crop_Land_Vegetation\n",
    "- Bare_Burnt_Land\n",
    "- Sand\n",
    "- Wetland_Mangroves\n",
    "- Agro_Forestry (Trees, Crops, Pasture, Coconuts)\n",
    "- Roads\n",
    "- Mining_Quarry"
   ]
  },
  {
   "cell_type": "code",
   "execution_count": 9,
   "id": "3c68400f-5df2-478f-a748-132811297ec1",
   "metadata": {
    "tags": []
   },
   "outputs": [],
   "source": [
    "#Settlements\n",
    "gdf.loc[gdf['LULC'] == 'Infrastructure', 'LULC'] = 'Settlements'\n",
    "gdf.loc[gdf['LULC'] == 'Solar_panels', 'LULC'] = 'Settlements'\n",
    "\n",
    "#Forest_Land (Agro, Natural, Plantation)\n",
    "gdf.loc[gdf['LULC'] == 'Forest_land', 'LULC'] = 'Forest_Land'\n",
    "gdf.loc[gdf['LULC'] == 'Low_density_forest_palm', 'LULC'] = 'Forest_Land'\n",
    "gdf.loc[gdf['LULC'] == 'Natural_scattered_forest', 'LULC'] = 'Forest_Land'\n",
    "gdf.loc[gdf['LULC'] == 'Natural_Dense_forest', 'LULC'] = 'Forest_Land'\n",
    "gdf.loc[gdf['LULC'] == 'Agroforestry_coconuts', 'LULC'] = 'Forest_Land'\n",
    "gdf.loc[gdf['LULC'] == 'Agroforestry', 'LULC'] = 'Forest_Land'\n",
    "gdf.loc[gdf['LULC'] == 'Hardwood_tree_species', 'LULC'] = 'Forest_Land'\n",
    "gdf.loc[gdf['LULC'] == 'Softwood_tree_species', 'LULC'] = 'Forest_Land'\n",
    "gdf.loc[gdf['LULC'] == 'Integrated_Livestock_Agriculture', 'LULC'] = 'Forest_Land'\n",
    "\n",
    "#Crop_Land_Vegetation\n",
    "gdf.loc[gdf['LULC'] == 'Vegetation', 'LULC'] = 'Crop_Land_Vegetation'\n",
    "gdf.loc[gdf['LULC'] == 'Cropland', 'LULC'] = 'Crop_Land_Vegetation'\n",
    "gdf.loc[gdf['LULC'] == 'Monocropping', 'LULC'] = 'Crop_Land_Vegetation'\n",
    "gdf.loc[gdf['LULC'] == 'Mixed_cropping', 'LULC'] = 'Crop_Land_Vegetation'\n",
    "gdf.loc[gdf['LULC'] == 'Cropland_Agriculture', 'LULC'] = 'Crop_Land_Vegetation'\n",
    "gdf.loc[gdf['LULC'] == 'Weeds', 'LULC'] = 'Crop_Land_Vegetation'\n",
    "\n",
    "#Grass_Shrub_Land\n",
    "gdf.loc[gdf['LULC'] == 'Shrubs', 'LULC'] = 'Grass_Shrub_Land'\n",
    "gdf.loc[gdf['LULC'] == 'Grassland', 'LULC'] = 'Grass_Shrub_Land'\n",
    "gdf.loc[gdf['LULC'] == 'Shrubland', 'LULC'] = 'Grass_Shrub_Land'\n",
    "gdf.loc[gdf['LULC'] == 'Lawn_grass', 'LULC'] = 'Grass_Shrub_Land'\n",
    "gdf.loc[gdf['LULC'] == 'Natural_Shrubs', 'LULC'] = 'Grass_Shrub_Land'\n",
    "gdf.loc[gdf['LULC'] == 'Grazing_land', 'LULC'] = 'Grass_Shrub_Land'\n",
    "gdf.loc[gdf['LULC'] == 'Pasture_land', 'LULC'] = 'Grass_Shrub_Land'\n",
    "\n",
    "#Wetland_Mangroves\n",
    "gdf.loc[gdf['LULC'] == 'Mangroves', 'LULC'] = 'Wetland_Mangroves'\n",
    "gdf.loc[gdf['LULC'] == 'Wetland', 'LULC'] = 'Wetland_Mangroves'\n",
    "gdf.loc[gdf['LULC'] == 'Mudflats', 'LULC'] = 'Wetland_Mangroves'\n",
    "gdf.loc[gdf['LULC'] == 'Shallow_ocean', 'LULC'] = 'Wetland_Mangroves'\n",
    "\n",
    "#Bare_Burnt_Land\n",
    "gdf.loc[gdf['LULC'] == 'Bare_land', 'LULC'] = 'Bare_Burnt_Land'\n",
    "gdf.loc[gdf['LULC'] == 'Burned_land', 'LULC'] = 'Bare_Burnt_Land'\n",
    "\n",
    "#Roads\n",
    "gdf.loc[gdf['LULC'] == 'Roads_paved', 'LULC'] = 'Roads'\n",
    "gdf.loc[gdf['LULC'] == 'Roads_unpaved', 'LULC'] = 'Roads'\n",
    "\n",
    "#Mining\n",
    "gdf.loc[gdf['LULC'] == 'Rock', 'LULC'] = 'Mining'\n",
    "gdf.loc[gdf['LULC'] == 'Quarry', 'LULC'] = 'Mining'\n",
    "gdf.loc[gdf['LULC'] == 'Mining areas', 'LULC'] = 'Mining'\n",
    "gdf.loc[gdf['LULC'] == 'Active_mining', 'LULC'] = 'Mining'\n",
    "gdf.loc[gdf['LULC'] == 'Closed_abandoned_mining', 'LULC'] = 'Mining'"
   ]
  },
  {
   "cell_type": "markdown",
   "id": "f5723cc5-1303-48ed-bcd5-fc814774cd93",
   "metadata": {
    "tags": []
   },
   "source": [
    "#### Remove classes of smaller sample sizes"
   ]
  },
  {
   "cell_type": "code",
   "execution_count": 10,
   "id": "07462dbe-4bb4-42aa-ab88-5e6e1ad9f943",
   "metadata": {
    "tags": []
   },
   "outputs": [],
   "source": [
    "#Remove smaller sample size\n",
    "remove_list = ['Shallow_ocean', 'Coral_reef', 'Seagrass', 'Deep_ocean', 'Seagrasses', 'Aquaculture', 'Invasive_species', 'Climbing_vines', 'Surface_water', 'Seaweed']\n",
    "for r in remove_list:\n",
    "    gdf = gdf[gdf[\"LULC\"] != r]"
   ]
  },
  {
   "cell_type": "code",
   "execution_count": 11,
   "id": "49803925-d27f-429e-b8fb-64a511ffa6d9",
   "metadata": {
    "tags": []
   },
   "outputs": [
    {
     "data": {
      "text/html": [
       "<div>\n",
       "<style scoped>\n",
       "    .dataframe tbody tr th:only-of-type {\n",
       "        vertical-align: middle;\n",
       "    }\n",
       "\n",
       "    .dataframe tbody tr th {\n",
       "        vertical-align: top;\n",
       "    }\n",
       "\n",
       "    .dataframe thead th {\n",
       "        text-align: right;\n",
       "    }\n",
       "</style>\n",
       "<table border=\"1\" class=\"dataframe\">\n",
       "  <thead>\n",
       "    <tr style=\"text-align: right;\">\n",
       "      <th></th>\n",
       "      <th>0</th>\n",
       "      <th>1</th>\n",
       "    </tr>\n",
       "  </thead>\n",
       "  <tbody>\n",
       "    <tr>\n",
       "      <th>0</th>\n",
       "      <td>Settlements</td>\n",
       "      <td>548</td>\n",
       "    </tr>\n",
       "    <tr>\n",
       "      <th>1</th>\n",
       "      <td>Forest_Land</td>\n",
       "      <td>498</td>\n",
       "    </tr>\n",
       "    <tr>\n",
       "      <th>2</th>\n",
       "      <td>Grass_Shrub_Land</td>\n",
       "      <td>437</td>\n",
       "    </tr>\n",
       "    <tr>\n",
       "      <th>3</th>\n",
       "      <td>Crop_Land_Vegetation</td>\n",
       "      <td>393</td>\n",
       "    </tr>\n",
       "    <tr>\n",
       "      <th>4</th>\n",
       "      <td>Wetland_Mangroves</td>\n",
       "      <td>227</td>\n",
       "    </tr>\n",
       "    <tr>\n",
       "      <th>5</th>\n",
       "      <td>Sand</td>\n",
       "      <td>130</td>\n",
       "    </tr>\n",
       "    <tr>\n",
       "      <th>6</th>\n",
       "      <td>Roads</td>\n",
       "      <td>99</td>\n",
       "    </tr>\n",
       "    <tr>\n",
       "      <th>7</th>\n",
       "      <td>Mining</td>\n",
       "      <td>84</td>\n",
       "    </tr>\n",
       "    <tr>\n",
       "      <th>8</th>\n",
       "      <td>Bare_Burnt_Land</td>\n",
       "      <td>62</td>\n",
       "    </tr>\n",
       "  </tbody>\n",
       "</table>\n",
       "</div>"
      ],
      "text/plain": [
       "                      0    1\n",
       "0           Settlements  548\n",
       "1           Forest_Land  498\n",
       "2      Grass_Shrub_Land  437\n",
       "3  Crop_Land_Vegetation  393\n",
       "4     Wetland_Mangroves  227\n",
       "5                  Sand  130\n",
       "6                 Roads   99\n",
       "7                Mining   84\n",
       "8       Bare_Burnt_Land   62"
      ]
     },
     "execution_count": 11,
     "metadata": {},
     "output_type": "execute_result"
    }
   ],
   "source": [
    "summary = gdf.LULC.value_counts()\n",
    "pd.DataFrame(summary.items())"
   ]
  },
  {
   "cell_type": "code",
   "execution_count": 12,
   "id": "9bc4c9ce-4d8a-4bc1-b168-27d9670e7e91",
   "metadata": {
    "tags": []
   },
   "outputs": [
    {
     "data": {
      "text/plain": [
       "2478"
      ]
     },
     "execution_count": 12,
     "metadata": {},
     "output_type": "execute_result"
    }
   ],
   "source": [
    "len(gdf)"
   ]
  },
  {
   "cell_type": "markdown",
   "id": "be237ab9-26e7-4e26-bb52-cd9e01f7a182",
   "metadata": {},
   "source": [
    "#### Save output for Machine Learning Process"
   ]
  },
  {
   "cell_type": "code",
   "execution_count": 13,
   "id": "4917192f-3703-4f39-b7c0-07b668fb767c",
   "metadata": {
    "tags": []
   },
   "outputs": [],
   "source": [
    "gdf.to_file(\"datapoints_final.gpkg\", layer='LULC', driver=\"GPKG\", overwrite=True)"
   ]
  },
  {
   "cell_type": "code",
   "execution_count": 14,
   "id": "d8133612-c5bc-4aa7-893a-1ac14dedd597",
   "metadata": {
    "tags": []
   },
   "outputs": [],
   "source": [
    "dep.cleanup()"
   ]
  }
 ],
 "metadata": {
  "kernelspec": {
   "display_name": "Python 3 (ipykernel)",
   "language": "python",
   "name": "python3"
  },
  "language_info": {
   "codemirror_mode": {
    "name": "ipython",
    "version": 3
   },
   "file_extension": ".py",
   "mimetype": "text/x-python",
   "name": "python",
   "nbconvert_exporter": "python",
   "pygments_lexer": "ipython3",
   "version": "3.11.4"
  }
 },
 "nbformat": 4,
 "nbformat_minor": 5
}
