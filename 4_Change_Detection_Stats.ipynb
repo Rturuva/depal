{
 "cells": [
  {
   "cell_type": "code",
   "execution_count": 1,
   "id": "24b7ca70-b89c-4601-a2af-dc7fa8c4ff27",
   "metadata": {},
   "outputs": [],
   "source": [
    "import pandas as pd\n",
    "import depal_fj as dep"
   ]
  },
  {
   "cell_type": "code",
   "execution_count": 2,
   "id": "fa5df60f-3c45-415a-9941-b9fe100747c5",
   "metadata": {},
   "outputs": [],
   "source": [
    "tif_file = \"fj_lulc_2023.tif\"\n",
    "aoi = dep.get_island(\"Viti Levu\")\n",
    "df = dep.get_stats(tif_file, aoi)"
   ]
  },
  {
   "cell_type": "code",
   "execution_count": 3,
   "id": "715f7680-90e8-4241-95b3-2c7edc42b429",
   "metadata": {},
   "outputs": [
    {
     "data": {
      "text/html": [
       "<div>\n",
       "<style scoped>\n",
       "    .dataframe tbody tr th:only-of-type {\n",
       "        vertical-align: middle;\n",
       "    }\n",
       "\n",
       "    .dataframe tbody tr th {\n",
       "        vertical-align: top;\n",
       "    }\n",
       "\n",
       "    .dataframe thead th {\n",
       "        text-align: right;\n",
       "    }\n",
       "</style>\n",
       "<table border=\"1\" class=\"dataframe\">\n",
       "  <thead>\n",
       "    <tr style=\"text-align: right;\">\n",
       "      <th></th>\n",
       "      <th>class</th>\n",
       "      <th>class_count</th>\n",
       "      <th>percent</th>\n",
       "    </tr>\n",
       "    <tr>\n",
       "      <th>group</th>\n",
       "      <th></th>\n",
       "      <th></th>\n",
       "      <th></th>\n",
       "    </tr>\n",
       "  </thead>\n",
       "  <tbody>\n",
       "    <tr>\n",
       "      <th>1</th>\n",
       "      <td>Cropland</td>\n",
       "      <td>2025138</td>\n",
       "      <td>1.765652</td>\n",
       "    </tr>\n",
       "    <tr>\n",
       "      <th>2</th>\n",
       "      <td>Forest</td>\n",
       "      <td>79374446</td>\n",
       "      <td>69.203985</td>\n",
       "    </tr>\n",
       "    <tr>\n",
       "      <th>3</th>\n",
       "      <td>Grassland</td>\n",
       "      <td>30859195</td>\n",
       "      <td>26.905123</td>\n",
       "    </tr>\n",
       "    <tr>\n",
       "      <th>4</th>\n",
       "      <td>Settlement</td>\n",
       "      <td>1653570</td>\n",
       "      <td>1.441694</td>\n",
       "    </tr>\n",
       "    <tr>\n",
       "      <th>6</th>\n",
       "      <td>Water</td>\n",
       "      <td>781473</td>\n",
       "      <td>0.681341</td>\n",
       "    </tr>\n",
       "    <tr>\n",
       "      <th>7</th>\n",
       "      <td>Bareland/Other</td>\n",
       "      <td>2530</td>\n",
       "      <td>0.002206</td>\n",
       "    </tr>\n",
       "  </tbody>\n",
       "</table>\n",
       "</div>"
      ],
      "text/plain": [
       "                class  class_count    percent\n",
       "group                                        \n",
       "1            Cropland      2025138   1.765652\n",
       "2              Forest     79374446  69.203985\n",
       "3           Grassland     30859195  26.905123\n",
       "4          Settlement      1653570   1.441694\n",
       "6               Water       781473   0.681341\n",
       "7      Bareland/Other         2530   0.002206"
      ]
     },
     "execution_count": 3,
     "metadata": {},
     "output_type": "execute_result"
    }
   ],
   "source": [
    "df"
   ]
  },
  {
   "cell_type": "code",
   "execution_count": 4,
   "id": "16d5eb73-470c-4209-ac7b-8012646bf973",
   "metadata": {
    "tags": []
   },
   "outputs": [
    {
     "data": {
      "text/plain": [
       "<Axes: xlabel='class'>"
      ]
     },
     "execution_count": 4,
     "metadata": {},
     "output_type": "execute_result"
    },
    {
     "data": {
      "image/png": "[encoded data removed]",
      "text/plain": [
       "<Figure size 640x480 with 1 Axes>"
      ]
     },
     "metadata": {},
     "output_type": "display_data"
    }
   ],
   "source": [
    "df.plot.bar(x='class', y='percent')"
   ]
  },
  {
   "cell_type": "markdown",
   "id": "524fdf30-4d07-4925-a13e-4a914eb40d64",
   "metadata": {},
   "source": [
    "### Export to Excel for further Analysis"
   ]
  },
  {
   "cell_type": "code",
   "execution_count": 5,
   "id": "d2ef20db-fbbe-4259-b672-0e5ab9ce027b",
   "metadata": {
    "tags": []
   },
   "outputs": [],
   "source": [
    "!pip install -q -U openpyxl\n",
    "excel = pd.ExcelWriter('FJ_LULC_Stats.xlsx')\n",
    "df.to_excel(excel)\n",
    "excel.close()"
   ]
  }
 ],
 "metadata": {
  "kernelspec": {
   "display_name": "Python 3 (ipykernel)",
   "language": "python",
   "name": "python3"
  },
  "language_info": {
   "codemirror_mode": {
    "name": "ipython",
    "version": 3
   },
   "file_extension": ".py",
   "mimetype": "text/x-python",
   "name": "python",
   "nbconvert_exporter": "python",
   "pygments_lexer": "ipython3",
   "version": "3.11.4"
  }
 },
 "nbformat": 4,
 "nbformat_minor": 5
}
