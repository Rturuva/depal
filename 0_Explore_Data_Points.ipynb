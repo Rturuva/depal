{
 "cells": [
  {
   "cell_type": "markdown",
   "id": "ac76f33d-0204-4f3d-8baf-41e701999fcd",
   "metadata": {},
   "source": [
    "![Digital Earth Pacific](dep.png)"
   ]
  },
  {
   "cell_type": "code",
   "execution_count": null,
   "id": "eda70487-d9a4-4b58-b6e3-922699e3df0a",
   "metadata": {},
   "outputs": [],
   "source": []
  }
 ],
 "metadata": {
  "kernelspec": {
   "display_name": "Python 3 (ipykernel)",
   "language": "python",
   "name": "python3"
  },
  "language_info": {
   "codemirror_mode": {
    "name": "ipython",
    "version": 3
   },
   "file_extension": ".py",
   "mimetype": "text/x-python",
   "name": "python",
   "nbconvert_exporter": "python",
   "pygments_lexer": "ipython3",
   "version": "3.11.4"
  }
 },
 "nbformat": 4,
 "nbformat_minor": 5
}
