{
 "cells": [
  {
   "cell_type": "markdown",
   "id": "ac76f33d-0204-4f3d-8baf-41e701999fcd",
   "metadata": {},
   "source": [
    "![Digital Earth Pacific](dep.png)"
   ]
  },
  {
   "cell_type": "code",
   "execution_count": null,
   "id": "eda70487-d9a4-4b58-b6e3-922699e3df0a",
   "metadata": {},
   "outputs": [],
   "source": [
    "import depal_fj as dep\n",
    "import geopandas as gpd\n",
    "import pandas as pd"
   ]
  },
  {
   "cell_type": "code",
   "execution_count": null,
   "id": "cc5a8171-0ec0-4d6d-9587-6a1908b2c161",
   "metadata": {
    "tags": []
   },
   "outputs": [],
   "source": [
    "dep.list_data_points()"
   ]
  },
  {
   "cell_type": "code",
   "execution_count": null,
   "id": "8451f0c4-2801-4322-a2d2-cbfb6184bd5d",
   "metadata": {},
   "outputs": [],
   "source": [
    "points = gpd.read_file(\"Fiji/fj_lulc_data_points_merged.gpkg\")"
   ]
  },
  {
   "cell_type": "code",
   "execution_count": null,
   "id": "24893ac9-8c60-4a84-9495-632ca73cacdd",
   "metadata": {},
   "outputs": [],
   "source": [
    "points.sort_values(by=['Class'], inplace=True)\n",
    "summary = points.Class.value_counts()\n",
    "pd.DataFrame(summary.items())"
   ]
  },
  {
   "cell_type": "code",
   "execution_count": null,
   "id": "3b4e3975-435e-4828-bd04-6ad184921402",
   "metadata": {},
   "outputs": [],
   "source": [
    "summary.plot.bar()"
   ]
  },
  {
   "cell_type": "code",
   "execution_count": null,
   "id": "006b0d55-66ad-40aa-b4c1-0c35918d360d",
   "metadata": {
    "tags": []
   },
   "outputs": [],
   "source": [
    "points.explore(column=\"Class\")"
   ]
  }
 ],
 "metadata": {
  "kernelspec": {
   "display_name": "Python 3 (ipykernel)",
   "language": "python",
   "name": "python3"
  },
  "language_info": {
   "codemirror_mode": {
    "name": "ipython",
    "version": 3
   },
   "file_extension": ".py",
   "mimetype": "text/x-python",
   "name": "python",
   "nbconvert_exporter": "python",
   "pygments_lexer": "ipython3",
   "version": "3.11.4"
  }
 },
 "nbformat": 4,
 "nbformat_minor": 5
}
